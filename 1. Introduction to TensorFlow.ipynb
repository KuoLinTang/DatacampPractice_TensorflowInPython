{
 "cells": [
  {
   "cell_type": "markdown",
   "id": "suffering-setup",
   "metadata": {},
   "source": [
    "# What is a tensor?\n",
    "\n",
    "Tensor 為 vectors、metrices 的統稱，代表一系列的數字以特定的方式排列。\n",
    "\n",
    "Vector為 1-dimensional tensor，Metrix為 2-dimensional tensor"
   ]
  },
  {
   "cell_type": "code",
   "execution_count": 1,
   "id": "53e12392",
   "metadata": {},
   "outputs": [],
   "source": [
    "import tensorflow as tf"
   ]
  },
  {
   "cell_type": "markdown",
   "id": "bbfb58c5",
   "metadata": {},
   "source": [
    "0-dimensional tensor (point)"
   ]
  },
  {
   "cell_type": "code",
   "execution_count": 4,
   "id": "3f8b0953",
   "metadata": {},
   "outputs": [],
   "source": [
    "d0 = tf.ones((1,))"
   ]
  },
  {
   "cell_type": "markdown",
   "id": "d91ad07c",
   "metadata": {},
   "source": [
    "1-dimensional tensor (vector)"
   ]
  },
  {
   "cell_type": "code",
   "execution_count": 5,
   "id": "68a56bbd",
   "metadata": {},
   "outputs": [],
   "source": [
    "d1 = tf.ones((2,))"
   ]
  },
  {
   "cell_type": "markdown",
   "id": "fdf6d11d",
   "metadata": {},
   "source": [
    "2-dimensional tensor (matrix)"
   ]
  },
  {
   "cell_type": "code",
   "execution_count": 6,
   "id": "9189e8b6",
   "metadata": {},
   "outputs": [],
   "source": [
    "d2 = tf.ones((2, 2))"
   ]
  },
  {
   "cell_type": "markdown",
   "id": "675e5b49",
   "metadata": {},
   "source": [
    "3-dimensional tensor"
   ]
  },
  {
   "cell_type": "code",
   "execution_count": 7,
   "id": "5c49e5a1",
   "metadata": {},
   "outputs": [],
   "source": [
    "d3 = tf.ones((2, 2, 2))"
   ]
  },
  {
   "cell_type": "markdown",
   "id": "9f7b5af6",
   "metadata": {},
   "source": [
    "Print the 2D, 3D tensor"
   ]
  },
  {
   "cell_type": "code",
   "execution_count": 9,
   "id": "25d8c53e",
   "metadata": {},
   "outputs": [
    {
     "name": "stdout",
     "output_type": "stream",
     "text": [
      "[[1. 1.]\n",
      " [1. 1.]]\n"
     ]
    }
   ],
   "source": [
    "print(d2.numpy())"
   ]
  },
  {
   "cell_type": "code",
   "execution_count": 8,
   "id": "27d9fa52",
   "metadata": {},
   "outputs": [
    {
     "name": "stdout",
     "output_type": "stream",
     "text": [
      "[[[1. 1.]\n",
      "  [1. 1.]]\n",
      "\n",
      " [[1. 1.]\n",
      "  [1. 1.]]]\n"
     ]
    }
   ],
   "source": [
    "print(d3.numpy())"
   ]
  },
  {
   "cell_type": "markdown",
   "id": "ba4ef5d8",
   "metadata": {},
   "source": [
    "## Constants\n",
    "\n",
    "Constants 為最簡單的一種 tensor，無法改變，無法被 trained，但可以是各種 dimensions。例如："
   ]
  },
  {
   "cell_type": "code",
   "execution_count": 11,
   "id": "e077ce6d",
   "metadata": {},
   "outputs": [
    {
     "name": "stdout",
     "output_type": "stream",
     "text": [
      "[[3 3 3]\n",
      " [3 3 3]]\n"
     ]
    }
   ],
   "source": [
    "from tensorflow import constant\n",
    "\n",
    "# 建立一個 2*3 的 constant tensor\n",
    "c = constant(3, shape = [2, 3])\n",
    "\n",
    "# 印出\n",
    "print(c.numpy())"
   ]
  },
  {
   "cell_type": "markdown",
   "id": "ca521132",
   "metadata": {},
   "source": [
    "例二："
   ]
  },
  {
   "cell_type": "code",
   "execution_count": 15,
   "id": "d153cfbc",
   "metadata": {},
   "outputs": [
    {
     "name": "stdout",
     "output_type": "stream",
     "text": [
      "[[1 2]\n",
      " [3 4]]\n"
     ]
    }
   ],
   "source": [
    "c = constant([1, 2, 3, 4], shape = [2, 2])\n",
    "\n",
    "print(c.numpy())"
   ]
  },
  {
   "cell_type": "markdown",
   "id": "5467dd8a",
   "metadata": {},
   "source": [
    "### 常見的 Tensor 種類\n",
    "\n",
    "![](Image/Image1.jpg)"
   ]
  },
  {
   "cell_type": "code",
   "execution_count": 17,
   "id": "82f6f27f",
   "metadata": {},
   "outputs": [
    {
     "name": "stdout",
     "output_type": "stream",
     "text": [
      "[[1 1]\n",
      " [1 1]]\n"
     ]
    }
   ],
   "source": [
    "# ones_like(t): 將輸入的 tensor t 內所有元素都改成 1 (zeros_like 則是改成 0)\n",
    "one = tf.ones_like(c)\n",
    "\n",
    "print(one.numpy())"
   ]
  },
  {
   "cell_type": "code",
   "execution_count": 20,
   "id": "187fdbca",
   "metadata": {},
   "outputs": [
    {
     "name": "stdout",
     "output_type": "stream",
     "text": [
      "[[7 7 7]\n",
      " [7 7 7]\n",
      " [7 7 7]]\n",
      "[[7 7 7]\n",
      " [7 7 7]\n",
      " [7 7 7]]\n"
     ]
    }
   ],
   "source": [
    "seven = tf.fill([3, 3], 7)\n",
    "seven2 = tf.constant(7, shape = [3, 3])\n",
    "\n",
    "print(seven.numpy())\n",
    "print(seven2.numpy())"
   ]
  },
  {
   "cell_type": "markdown",
   "id": "9704699f",
   "metadata": {},
   "source": [
    "## Variables\n",
    "\n",
    "Variables 的數值可隨著計算而改變。然而，其 dimensions 是固定的"
   ]
  },
  {
   "cell_type": "code",
   "execution_count": 24,
   "id": "f459f117",
   "metadata": {},
   "outputs": [],
   "source": [
    "import tensorflow as tf\n",
    "\n",
    "# define variables\n",
    "a0 = tf.Variable([1, 2, 3, 4, 5, 6], dtype=tf.float32)\n",
    "a1 = tf.Variable([1, 2, 3, 4, 5, 6], dtype=tf.int16)\n",
    "\n",
    "# define a constant\n",
    "b = tf.constant(2, tf.float32)"
   ]
  },
  {
   "cell_type": "code",
   "execution_count": 33,
   "id": "f6ef51a9",
   "metadata": {},
   "outputs": [
    {
     "name": "stdout",
     "output_type": "stream",
     "text": [
      "[ 2.  4.  6.  8. 10. 12.]\n",
      "[ 2.  4.  6.  8. 10. 12.]\n"
     ]
    }
   ],
   "source": [
    "# 測試兩種乘法的寫法\n",
    "c0 = tf.multiply(a0, b)\n",
    "c1 = a0 * b\n",
    "\n",
    "# Print the results\n",
    "print(c0.numpy())\n",
    "print(c1.numpy())"
   ]
  },
  {
   "cell_type": "markdown",
   "id": "d19fb358",
   "metadata": {},
   "source": [
    "# Tensorflow operation\n",
    "\n",
    "Tensorflow operation 可以利用 edge-node graph 來視覺化。例如：\n",
    "\n",
    "![](Image/Image2.jpg)\n",
    "\n",
    "其中，edges 代表 tensors，而 nodes 代表 operations"
   ]
  },
  {
   "cell_type": "markdown",
   "id": "8e7ca322",
   "metadata": {},
   "source": [
    "## 簡單的 operations\n",
    "\n",
    "Element-wise operations: 代表 tensors 的形狀要相同，對應的 element 才能做四則運算"
   ]
  },
  {
   "cell_type": "markdown",
   "id": "1798165b",
   "metadata": {},
   "source": [
    "### 加法\n",
    "\n",
    "Tensors中對應的元素相加 (element-wise)，所以 tensors 的形狀要相同"
   ]
  },
  {
   "cell_type": "code",
   "execution_count": 2,
   "id": "9e16f3bc",
   "metadata": {},
   "outputs": [
    {
     "name": "stdout",
     "output_type": "stream",
     "text": [
      "[3]\n",
      "[4 6]\n",
      "[[ 6  8]\n",
      " [10 12]]\n"
     ]
    }
   ],
   "source": [
    "# import\n",
    "from tensorflow import constant, add\n",
    "\n",
    "# 定義兩個 0-dimensional tensors\n",
    "A0 = constant([1])\n",
    "B0 = constant([2])\n",
    "\n",
    "# 定義兩個 1-dimensional tensors\n",
    "A1 = constant([1, 2])\n",
    "B1 = constant([3, 4])\n",
    "\n",
    "# 定義兩個 2-dimensional tensors\n",
    "A2 = constant([[1, 2], [3, 4]])\n",
    "B2 = constant([[5, 6], [7, 8]])\n",
    "\n",
    "\n",
    "# 加總\n",
    "C0 = add(A0, B0)\n",
    "C1 = add(A1, B1)\n",
    "C2 = add(A2, B2)\n",
    "\n",
    "# 印出結果\n",
    "print(C0.numpy())\n",
    "print(C1.numpy())\n",
    "print(C2.numpy())"
   ]
  },
  {
   "cell_type": "markdown",
   "id": "3929c0bd",
   "metadata": {},
   "source": [
    "### 乘法\n",
    "\n",
    "有兩種乘法： element-wise 和 matrix\n",
    "\n",
    "Element-wise multiplication: 使用 tensorflow 的 multiply() 函數， tensors 的形狀要相同 <br/>\n",
    "Matrix multiplication: 使用 tensorflow 的 matmul() 函數， tensors 的 dimensions 要符合特定的關係，也就是前面的 tensor 的 column 數量要等於後面 tensor 的 row 數量 (例如矩陣相乘，必須符合 n * m 矩陣乘以 m * k 矩陣的關係)\n"
   ]
  },
  {
   "cell_type": "code",
   "execution_count": 11,
   "id": "b1f4c2a1",
   "metadata": {},
   "outputs": [
    {
     "name": "stdout",
     "output_type": "stream",
     "text": [
      "[1.]\n",
      "[[1.]\n",
      " [1.]\n",
      " [1.]]\n",
      "[[1. 1. 1. 1.]\n",
      " [1. 1. 1. 1.]\n",
      " [1. 1. 1. 1.]]\n",
      "[[1. 1. 1.]\n",
      " [1. 1. 1.]\n",
      " [1. 1. 1.]\n",
      " [1. 1. 1.]]\n",
      "============================= Multiply ==============================\n",
      "[1.]\n",
      "[[1.]\n",
      " [1.]\n",
      " [1.]]\n",
      "[[1. 1. 1. 1.]\n",
      " [1. 1. 1. 1.]\n",
      " [1. 1. 1. 1.]]\n",
      "[[1. 1. 1.]\n",
      " [1. 1. 1.]\n",
      " [1. 1. 1.]\n",
      " [1. 1. 1.]]\n",
      "============================= Matmul ==============================\n",
      "[[3. 3. 3. 3.]\n",
      " [3. 3. 3. 3.]\n",
      " [3. 3. 3. 3.]\n",
      " [3. 3. 3. 3.]]\n",
      "[[4. 4. 4.]\n",
      " [4. 4. 4.]\n",
      " [4. 4. 4.]]\n",
      "[[3.]\n",
      " [3.]\n",
      " [3.]\n",
      " [3.]]\n"
     ]
    }
   ],
   "source": [
    "# import\n",
    "from tensorflow import ones, matmul, multiply\n",
    "\n",
    "# 定義 tensors\n",
    "A0 = ones(1)\n",
    "A1 = ones([3, 1])\n",
    "A2 = ones([3, 4])\n",
    "A3 = ones([4, 3])\n",
    "\n",
    "# 檢視形狀\n",
    "print(A0.numpy())\n",
    "print(A1.numpy())\n",
    "print(A2.numpy())\n",
    "print(A3.numpy())\n",
    "\n",
    "print(\"============================= Multiply ==============================\")\n",
    "\n",
    "# multiply 運算\n",
    "B00 = multiply(A0, A0)\n",
    "B11 = multiply(A1, A1)\n",
    "B22 = multiply(A2, A2)\n",
    "B33 = multiply(A3, A3)\n",
    "\n",
    "# results\n",
    "print(B00.numpy())\n",
    "print(B11.numpy())\n",
    "print(B22.numpy())\n",
    "print(B33.numpy())\n",
    "\n",
    "\n",
    "print(\"============================= Matmul ==============================\")\n",
    "\n",
    "# matmul 運算\n",
    "B32 = matmul(A3, A2)\n",
    "B23 = matmul(A2, A3)\n",
    "B31 = matmul(A3, A1)\n",
    "\n",
    "# result\n",
    "print(B32.numpy())\n",
    "print(B23.numpy())\n",
    "print(B31.numpy())"
   ]
  },
  {
   "cell_type": "markdown",
   "id": "3da6fcdf",
   "metadata": {},
   "source": [
    "### Reduce_sum\n",
    "\n",
    "reduce_sum(A) 代表 sums over all dimensions of A (將 tensor A 的所有 elements 加總)\n",
    "\n",
    "reduce_sum(A, i) 代表 sums over dimension i of A (將 tensor A 的 dimension i 的所有 elements 加總)"
   ]
  },
  {
   "cell_type": "code",
   "execution_count": 13,
   "id": "dc9c49ae",
   "metadata": {},
   "outputs": [
    {
     "name": "stdout",
     "output_type": "stream",
     "text": [
      "24.0\n",
      "[[2. 2. 2. 2.]\n",
      " [2. 2. 2. 2.]\n",
      " [2. 2. 2. 2.]]\n",
      "[[3. 3. 3. 3.]\n",
      " [3. 3. 3. 3.]]\n",
      "[[4. 4. 4.]\n",
      " [4. 4. 4.]]\n"
     ]
    }
   ],
   "source": [
    "from tensorflow import ones, reduce_sum\n",
    "\n",
    "# 定義一個 2 * 3 * 4 的 tensor\n",
    "A = ones([2, 3, 4])\n",
    "\n",
    "# reduce_sum 運算\n",
    "B = reduce_sum(A)\n",
    "print(B.numpy())\n",
    "\n",
    "C1 = reduce_sum(A, 0)\n",
    "C2 = reduce_sum(A, 1)\n",
    "C3 = reduce_sum(A, 2)\n",
    "print(C1.numpy())\n",
    "print(C2.numpy())\n",
    "print(C3.numpy())"
   ]
  },
  {
   "cell_type": "markdown",
   "id": "386e0609",
   "metadata": {},
   "source": [
    "# Advanced operations\n",
    "\n",
    "包含 gradient, reshape, random 等函數\n",
    "\n",
    "1. Tensorflow 的 gradient() 函數，會計算一個函數在某一點的斜率 <br/>\n",
    "2. reshape() 函數可以將一個 tensor 轉換成其他形狀 (例如， 10 * 10 --> 100 * 1)\n",
    "3. random() 函數可以產生一個存有隨機數列的 tensor"
   ]
  },
  {
   "cell_type": "markdown",
   "id": "2951efe6",
   "metadata": {},
   "source": [
    "## gradient 的用處\n",
    "\n",
    "很多機器學習或深度學習的目標是去找到一個最能描述資料的函數，因此要去 minimise 此函數與目標函數的差異，也就是找到 loss function 的最小值\n",
    "\n",
    "這時候就要用到 gradient (斜率 slope) 來一步一步的尋找最小值 (最佳解即是找到 gradient = 0 的點，因為極值的點的微分為 0)"
   ]
  },
  {
   "cell_type": "markdown",
   "id": "e29ad61d",
   "metadata": {},
   "source": [
    "### 實際操作"
   ]
  },
  {
   "cell_type": "code",
   "execution_count": 5,
   "id": "d3073528",
   "metadata": {},
   "outputs": [
    {
     "name": "stdout",
     "output_type": "stream",
     "text": [
      "-1.0\n",
      "-2.0\n"
     ]
    }
   ],
   "source": [
    "# import\n",
    "import tensorflow as tf\n",
    "\n",
    "# define a variable x\n",
    "x = tf.Variable(-1.0)\n",
    "print(x.numpy())\n",
    "\n",
    "# define y within instance of GradientTape\n",
    "with tf.GradientTape() as tape:\n",
    "    tape.watch(x)\n",
    "    y = tf.multiply(x, x)\n",
    "\n",
    "# 計算 x = -1 時 y 的 gradient\n",
    "g = tape.gradient(y, x)    # 第一個參數為函數值，第二個參數為輸入值\n",
    "print(g.numpy())"
   ]
  },
  {
   "cell_type": "markdown",
   "id": "4c9655a4",
   "metadata": {},
   "source": [
    "上面的 GradientTape() 可以幫助我們計算 y 對於 x 的變化率。只要在 GradientTape() 的 with statement 中定義函式 (*y = tf.multiply(x, x)*)，則 tape 中的 gradient() 函數可以直接計算函式在某一點的 gradient。例子中的斜率為 -2，代表此處的 y 會隨著 x 的上升而下降。"
   ]
  },
  {
   "cell_type": "markdown",
   "id": "253011b2",
   "metadata": {},
   "source": [
    "## reshape() 的用處\n",
    "\n",
    "reshape() 函數對於影像處理相當有用，例如：一張 128 * 128 的灰階照片通常可由一個 128 * 128 的矩陣表示，其中，每個 element 都是介於 0 到 255 的數值。然而，大部分的機器學習演算法都只能處理向量形式的資料，因此要把這個 128 * 128 的矩陣 reshape 成一個 16384 * 1 的向量。"
   ]
  },
  {
   "cell_type": "markdown",
   "id": "521c2551",
   "metadata": {},
   "source": [
    "### 實際操作：reshape a grayscale image\n",
    "\n",
    "![](Image/Image3.jpg)"
   ]
  },
  {
   "cell_type": "code",
   "execution_count": 9,
   "id": "775d8234",
   "metadata": {},
   "outputs": [
    {
     "name": "stdout",
     "output_type": "stream",
     "text": [
      "[[149 141]\n",
      " [249  65]]\n",
      "======================== reshape ========================\n",
      "[[149]\n",
      " [141]\n",
      " [249]\n",
      " [ 65]]\n"
     ]
    }
   ],
   "source": [
    "# import\n",
    "import tensorflow as tf\n",
    "\n",
    "# generate a 2 * 2 grayscale image\n",
    "gray = tf.random.uniform([2, 2], maxval=255, dtype=\"int32\")\n",
    "print(gray.numpy())\n",
    "\n",
    "print(\"======================== reshape ========================\")\n",
    "\n",
    "# reshape the image\n",
    "gray2 = tf.reshape(gray, [2*2, 1])\n",
    "print(gray2.numpy())"
   ]
  },
  {
   "cell_type": "markdown",
   "id": "11400496",
   "metadata": {},
   "source": [
    "### 實際操作2：reshape a color image (有 RGB，所以多一個 dimension)\n",
    "\n",
    "![](Image/Image4.jpg)"
   ]
  },
  {
   "cell_type": "code",
   "execution_count": 10,
   "id": "56c25aa0",
   "metadata": {},
   "outputs": [
    {
     "name": "stdout",
     "output_type": "stream",
     "text": [
      "[[[210  64 151]\n",
      "  [210 215 139]]\n",
      "\n",
      " [[207 231  81]\n",
      "  [162  25 171]]]\n",
      "======================== reshape ========================\n",
      "[[210  64 151]\n",
      " [210 215 139]\n",
      " [207 231  81]\n",
      " [162  25 171]]\n"
     ]
    }
   ],
   "source": [
    "# import \n",
    "import tensorflow as tf\n",
    "\n",
    "# define a color image\n",
    "color = tf.random.uniform([2, 2, 3], maxval=255, dtype='int32')\n",
    "print(color.numpy())\n",
    "\n",
    "print(\"======================== reshape ========================\")\n",
    "\n",
    "# reshape the image\n",
    "color2 = tf.reshape(color, [2*2, 3])\n",
    "print(color2.numpy())"
   ]
  }
 ],
 "metadata": {
  "kernelspec": {
   "display_name": "Python 3",
   "language": "python",
   "name": "python3"
  },
  "language_info": {
   "codemirror_mode": {
    "name": "ipython",
    "version": 3
   },
   "file_extension": ".py",
   "mimetype": "text/x-python",
   "name": "python",
   "nbconvert_exporter": "python",
   "pygments_lexer": "ipython3",
   "version": "3.8.8"
  }
 },
 "nbformat": 4,
 "nbformat_minor": 5
}
